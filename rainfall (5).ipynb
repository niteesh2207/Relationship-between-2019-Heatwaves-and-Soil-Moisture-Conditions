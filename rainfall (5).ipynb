{
 "cells": [
  {
   "cell_type": "code",
   "execution_count": 1,
   "metadata": {},
   "outputs": [],
   "source": [
    "import numpy as np\n",
    "import pandas as pd\n",
    "import matplotlib.pyplot as plt\n",
    "from matplotlib import rcParams\n",
    "from matplotlib.cm import rainbow\n",
    "%matplotlib inline\n",
    "import warnings\n",
    "warnings.filterwarnings('ignore')\n",
    "from sklearn.model_selection import train_test_split\n",
    "from sklearn.metrics import accuracy_score\n",
    "from sklearn.preprocessing import StandardScaler\n"
   ]
  },
  {
   "cell_type": "code",
   "execution_count": 3,
   "metadata": {},
   "outputs": [],
   "source": [
    "soil=pd.read_csv('soil.csv')"
   ]
  },
  {
   "cell_type": "code",
   "execution_count": 5,
   "metadata": {},
   "outputs": [
    {
     "data": {
      "text/html": [
       "<div>\n",
       "<style scoped>\n",
       "    .dataframe tbody tr th:only-of-type {\n",
       "        vertical-align: middle;\n",
       "    }\n",
       "\n",
       "    .dataframe tbody tr th {\n",
       "        vertical-align: top;\n",
       "    }\n",
       "\n",
       "    .dataframe thead th {\n",
       "        text-align: right;\n",
       "    }\n",
       "</style>\n",
       "<table border=\"1\" class=\"dataframe\">\n",
       "  <thead>\n",
       "    <tr style=\"text-align: right;\">\n",
       "      <th></th>\n",
       "      <th>Year</th>\n",
       "      <th>Month</th>\n",
       "      <th>Day</th>\n",
       "      <th>atmpressure</th>\n",
       "      <th>Humidity</th>\n",
       "      <th>Precipitation</th>\n",
       "      <th>Temperature</th>\n",
       "      <th>ph</th>\n",
       "      <th>Rainfall</th>\n",
       "      <th>soilmoisture</th>\n",
       "    </tr>\n",
       "  </thead>\n",
       "  <tbody>\n",
       "    <tr>\n",
       "      <th>0</th>\n",
       "      <td>2019</td>\n",
       "      <td>5</td>\n",
       "      <td>1</td>\n",
       "      <td>1009</td>\n",
       "      <td>27</td>\n",
       "      <td>0.0</td>\n",
       "      <td>41</td>\n",
       "      <td>6.502985</td>\n",
       "      <td>1</td>\n",
       "      <td>5.8</td>\n",
       "    </tr>\n",
       "    <tr>\n",
       "      <th>1</th>\n",
       "      <td>2019</td>\n",
       "      <td>5</td>\n",
       "      <td>2</td>\n",
       "      <td>1008</td>\n",
       "      <td>29</td>\n",
       "      <td>0.0</td>\n",
       "      <td>38</td>\n",
       "      <td>7.038096</td>\n",
       "      <td>1</td>\n",
       "      <td>6.0</td>\n",
       "    </tr>\n",
       "    <tr>\n",
       "      <th>2</th>\n",
       "      <td>2019</td>\n",
       "      <td>5</td>\n",
       "      <td>3</td>\n",
       "      <td>1011</td>\n",
       "      <td>61</td>\n",
       "      <td>5.0</td>\n",
       "      <td>34</td>\n",
       "      <td>7.840207</td>\n",
       "      <td>1</td>\n",
       "      <td>8.0</td>\n",
       "    </tr>\n",
       "    <tr>\n",
       "      <th>3</th>\n",
       "      <td>2019</td>\n",
       "      <td>5</td>\n",
       "      <td>4</td>\n",
       "      <td>1011</td>\n",
       "      <td>69</td>\n",
       "      <td>0.0</td>\n",
       "      <td>38</td>\n",
       "      <td>6.980401</td>\n",
       "      <td>1</td>\n",
       "      <td>6.0</td>\n",
       "    </tr>\n",
       "    <tr>\n",
       "      <th>4</th>\n",
       "      <td>2019</td>\n",
       "      <td>5</td>\n",
       "      <td>5</td>\n",
       "      <td>1010</td>\n",
       "      <td>50</td>\n",
       "      <td>0.0</td>\n",
       "      <td>41</td>\n",
       "      <td>7.628473</td>\n",
       "      <td>1</td>\n",
       "      <td>5.8</td>\n",
       "    </tr>\n",
       "  </tbody>\n",
       "</table>\n",
       "</div>"
      ],
      "text/plain": [
       "   Year  Month  Day  atmpressure  Humidity  Precipitation  Temperature  \\\n",
       "0  2019      5    1         1009        27            0.0           41   \n",
       "1  2019      5    2         1008        29            0.0           38   \n",
       "2  2019      5    3         1011        61            5.0           34   \n",
       "3  2019      5    4         1011        69            0.0           38   \n",
       "4  2019      5    5         1010        50            0.0           41   \n",
       "\n",
       "         ph  Rainfall  soilmoisture  \n",
       "0  6.502985         1           5.8  \n",
       "1  7.038096         1           6.0  \n",
       "2  7.840207         1           8.0  \n",
       "3  6.980401         1           6.0  \n",
       "4  7.628473         1           5.8  "
      ]
     },
     "execution_count": 5,
     "metadata": {},
     "output_type": "execute_result"
    }
   ],
   "source": [
    "soil.head()"
   ]
  },
  {
   "cell_type": "code",
   "execution_count": 6,
   "metadata": {},
   "outputs": [
    {
     "name": "stdout",
     "output_type": "stream",
     "text": [
      "<class 'pandas.core.frame.DataFrame'>\n",
      "RangeIndex: 61 entries, 0 to 60\n",
      "Data columns (total 10 columns):\n",
      " #   Column         Non-Null Count  Dtype  \n",
      "---  ------         --------------  -----  \n",
      " 0   Year           61 non-null     int64  \n",
      " 1   Month          61 non-null     int64  \n",
      " 2   Day            61 non-null     int64  \n",
      " 3   atmpressure    61 non-null     int64  \n",
      " 4   Humidity       61 non-null     int64  \n",
      " 5   Precipitation  61 non-null     float64\n",
      " 6   Temperature    61 non-null     int64  \n",
      " 7   ph             61 non-null     float64\n",
      " 8   Rainfall       61 non-null     int64  \n",
      " 9   soilmoisture   61 non-null     float64\n",
      "dtypes: float64(3), int64(7)\n",
      "memory usage: 4.9 KB\n"
     ]
    }
   ],
   "source": [
    "soil.info()"
   ]
  },
  {
   "cell_type": "code",
   "execution_count": 7,
   "metadata": {},
   "outputs": [
    {
     "data": {
      "text/html": [
       "<div>\n",
       "<style scoped>\n",
       "    .dataframe tbody tr th:only-of-type {\n",
       "        vertical-align: middle;\n",
       "    }\n",
       "\n",
       "    .dataframe tbody tr th {\n",
       "        vertical-align: top;\n",
       "    }\n",
       "\n",
       "    .dataframe thead th {\n",
       "        text-align: right;\n",
       "    }\n",
       "</style>\n",
       "<table border=\"1\" class=\"dataframe\">\n",
       "  <thead>\n",
       "    <tr style=\"text-align: right;\">\n",
       "      <th></th>\n",
       "      <th>Year</th>\n",
       "      <th>Month</th>\n",
       "      <th>Day</th>\n",
       "      <th>atmpressure</th>\n",
       "      <th>Humidity</th>\n",
       "      <th>Precipitation</th>\n",
       "      <th>Temperature</th>\n",
       "      <th>ph</th>\n",
       "      <th>Rainfall</th>\n",
       "      <th>soilmoisture</th>\n",
       "    </tr>\n",
       "  </thead>\n",
       "  <tbody>\n",
       "    <tr>\n",
       "      <th>count</th>\n",
       "      <td>61.0</td>\n",
       "      <td>61.000000</td>\n",
       "      <td>61.000000</td>\n",
       "      <td>61.000000</td>\n",
       "      <td>61.000000</td>\n",
       "      <td>61.000000</td>\n",
       "      <td>61.000000</td>\n",
       "      <td>61.000000</td>\n",
       "      <td>61.000000</td>\n",
       "      <td>61.000000</td>\n",
       "    </tr>\n",
       "    <tr>\n",
       "      <th>mean</th>\n",
       "      <td>2019.0</td>\n",
       "      <td>5.491803</td>\n",
       "      <td>15.754098</td>\n",
       "      <td>1005.721311</td>\n",
       "      <td>55.213115</td>\n",
       "      <td>0.444262</td>\n",
       "      <td>40.639344</td>\n",
       "      <td>6.627903</td>\n",
       "      <td>0.573770</td>\n",
       "      <td>5.680328</td>\n",
       "    </tr>\n",
       "    <tr>\n",
       "      <th>std</th>\n",
       "      <td>0.0</td>\n",
       "      <td>0.504082</td>\n",
       "      <td>8.880045</td>\n",
       "      <td>2.702660</td>\n",
       "      <td>19.516758</td>\n",
       "      <td>1.238753</td>\n",
       "      <td>3.219901</td>\n",
       "      <td>0.681350</td>\n",
       "      <td>0.498632</td>\n",
       "      <td>1.092370</td>\n",
       "    </tr>\n",
       "    <tr>\n",
       "      <th>min</th>\n",
       "      <td>2019.0</td>\n",
       "      <td>5.000000</td>\n",
       "      <td>1.000000</td>\n",
       "      <td>1001.000000</td>\n",
       "      <td>27.000000</td>\n",
       "      <td>0.000000</td>\n",
       "      <td>31.000000</td>\n",
       "      <td>5.070176</td>\n",
       "      <td>0.000000</td>\n",
       "      <td>4.000000</td>\n",
       "    </tr>\n",
       "    <tr>\n",
       "      <th>25%</th>\n",
       "      <td>2019.0</td>\n",
       "      <td>5.000000</td>\n",
       "      <td>8.000000</td>\n",
       "      <td>1004.000000</td>\n",
       "      <td>42.000000</td>\n",
       "      <td>0.000000</td>\n",
       "      <td>40.000000</td>\n",
       "      <td>6.254030</td>\n",
       "      <td>0.000000</td>\n",
       "      <td>5.200000</td>\n",
       "    </tr>\n",
       "    <tr>\n",
       "      <th>50%</th>\n",
       "      <td>2019.0</td>\n",
       "      <td>5.000000</td>\n",
       "      <td>16.000000</td>\n",
       "      <td>1005.000000</td>\n",
       "      <td>51.000000</td>\n",
       "      <td>0.000000</td>\n",
       "      <td>41.000000</td>\n",
       "      <td>6.523490</td>\n",
       "      <td>1.000000</td>\n",
       "      <td>5.800000</td>\n",
       "    </tr>\n",
       "    <tr>\n",
       "      <th>75%</th>\n",
       "      <td>2019.0</td>\n",
       "      <td>6.000000</td>\n",
       "      <td>23.000000</td>\n",
       "      <td>1008.000000</td>\n",
       "      <td>66.000000</td>\n",
       "      <td>0.000000</td>\n",
       "      <td>42.000000</td>\n",
       "      <td>7.070960</td>\n",
       "      <td>1.000000</td>\n",
       "      <td>6.000000</td>\n",
       "    </tr>\n",
       "    <tr>\n",
       "      <th>max</th>\n",
       "      <td>2019.0</td>\n",
       "      <td>6.000000</td>\n",
       "      <td>31.000000</td>\n",
       "      <td>1011.000000</td>\n",
       "      <td>100.000000</td>\n",
       "      <td>6.000000</td>\n",
       "      <td>46.000000</td>\n",
       "      <td>7.965210</td>\n",
       "      <td>1.000000</td>\n",
       "      <td>9.000000</td>\n",
       "    </tr>\n",
       "  </tbody>\n",
       "</table>\n",
       "</div>"
      ],
      "text/plain": [
       "         Year      Month        Day  atmpressure    Humidity  Precipitation  \\\n",
       "count    61.0  61.000000  61.000000    61.000000   61.000000      61.000000   \n",
       "mean   2019.0   5.491803  15.754098  1005.721311   55.213115       0.444262   \n",
       "std       0.0   0.504082   8.880045     2.702660   19.516758       1.238753   \n",
       "min    2019.0   5.000000   1.000000  1001.000000   27.000000       0.000000   \n",
       "25%    2019.0   5.000000   8.000000  1004.000000   42.000000       0.000000   \n",
       "50%    2019.0   5.000000  16.000000  1005.000000   51.000000       0.000000   \n",
       "75%    2019.0   6.000000  23.000000  1008.000000   66.000000       0.000000   \n",
       "max    2019.0   6.000000  31.000000  1011.000000  100.000000       6.000000   \n",
       "\n",
       "       Temperature         ph   Rainfall  soilmoisture  \n",
       "count    61.000000  61.000000  61.000000     61.000000  \n",
       "mean     40.639344   6.627903   0.573770      5.680328  \n",
       "std       3.219901   0.681350   0.498632      1.092370  \n",
       "min      31.000000   5.070176   0.000000      4.000000  \n",
       "25%      40.000000   6.254030   0.000000      5.200000  \n",
       "50%      41.000000   6.523490   1.000000      5.800000  \n",
       "75%      42.000000   7.070960   1.000000      6.000000  \n",
       "max      46.000000   7.965210   1.000000      9.000000  "
      ]
     },
     "execution_count": 7,
     "metadata": {},
     "output_type": "execute_result"
    }
   ],
   "source": [
    "soil.describe()"
   ]
  },
  {
   "cell_type": "code",
   "execution_count": 8,
   "metadata": {},
   "outputs": [
    {
     "data": {
      "text/plain": [
       "array([[<matplotlib.axes._subplots.AxesSubplot object at 0x0000020CBBD4DF08>,\n",
       "        <matplotlib.axes._subplots.AxesSubplot object at 0x0000020CBBFF9FC8>,\n",
       "        <matplotlib.axes._subplots.AxesSubplot object at 0x0000020CBC038F08>],\n",
       "       [<matplotlib.axes._subplots.AxesSubplot object at 0x0000020CBC071DC8>,\n",
       "        <matplotlib.axes._subplots.AxesSubplot object at 0x0000020CBC0A9C48>,\n",
       "        <matplotlib.axes._subplots.AxesSubplot object at 0x0000020CBC0E3B08>],\n",
       "       [<matplotlib.axes._subplots.AxesSubplot object at 0x0000020CBC11D988>,\n",
       "        <matplotlib.axes._subplots.AxesSubplot object at 0x0000020CBC1556C8>,\n",
       "        <matplotlib.axes._subplots.AxesSubplot object at 0x0000020CBC1558C8>],\n",
       "       [<matplotlib.axes._subplots.AxesSubplot object at 0x0000020CBC18F848>,\n",
       "        <matplotlib.axes._subplots.AxesSubplot object at 0x0000020CBC201388>,\n",
       "        <matplotlib.axes._subplots.AxesSubplot object at 0x0000020CBC2392C8>]],\n",
       "      dtype=object)"
      ]
     },
     "execution_count": 8,
     "metadata": {},
     "output_type": "execute_result"
    },
    {
     "data": {
      "image/png": "[encoded data removed]",
      "text/plain": [
       "<Figure size 432x288 with 12 Axes>"
      ]
     },
     "metadata": {
      "needs_background": "light"
     },
     "output_type": "display_data"
    }
   ],
   "source": [
    "soil.hist()"
   ]
  },
  {
   "cell_type": "code",
   "execution_count": 9,
   "metadata": {},
   "outputs": [
    {
     "data": {
      "text/plain": [
       "<matplotlib.image.AxesImage at 0x20cbc1e19c8>"
      ]
     },
     "execution_count": 9,
     "metadata": {},
     "output_type": "execute_result"
    },
    {
     "data": {
      "image/png": "[encoded data removed]",
      "text/plain": [
       "<Figure size 1008x1008 with 1 Axes>"
      ]
     },
     "metadata": {
      "needs_background": "light"
     },
     "output_type": "display_data"
    }
   ],
   "source": [
    "rcParams['figure.figsize'] = 20, 14\n",
    "plt.matshow(soil.corr())"
   ]
  },
  {
   "cell_type": "code",
   "execution_count": 10,
   "metadata": {},
   "outputs": [
    {
     "data": {
      "text/plain": [
       "Text(0.5, 1.0, 'Count of each Rainfall Class')"
      ]
     },
     "execution_count": 10,
     "metadata": {},
     "output_type": "execute_result"
    },
    {
     "data": {
      "image/png": "[encoded data removed]",
      "text/plain": [
       "<Figure size 1440x1008 with 1 Axes>"
      ]
     },
     "metadata": {
      "needs_background": "light"
     },
     "output_type": "display_data"
    }
   ],
   "source": [
    "rcParams['figure.figsize'] = 20, 14\n",
    "plt.bar(soil['Rainfall'].unique(), soil['Rainfall'].value_counts(), color = ['red', 'green'])\n",
    "plt.xticks([0, 1])\n",
    "plt.xlabel('Rainfall Classes')\n",
    "plt.ylabel('Count')\n",
    "plt.title('Count of each Rainfall Class')"
   ]
  },
  {
   "cell_type": "code",
   "execution_count": 11,
   "metadata": {},
   "outputs": [],
   "source": [
    "columns=['Year','Month','Day','atm pressure','Humidity','Precipitation','Temperature','ph','Rainfall','soilmoisture']"
   ]
  },
  {
   "cell_type": "code",
   "execution_count": 12,
   "metadata": {},
   "outputs": [
    {
     "data": {
      "text/plain": [
       "Index(['Year', 'Month', 'Day', 'atmpressure', 'Humidity', 'Precipitation',\n",
       "       'Temperature', 'ph', 'Rainfall', 'soilmoisture'],\n",
       "      dtype='object')"
      ]
     },
     "execution_count": 12,
     "metadata": {},
     "output_type": "execute_result"
    }
   ],
   "source": [
    "soil.columns"
   ]
  },
  {
   "cell_type": "code",
   "execution_count": 13,
   "metadata": {},
   "outputs": [],
   "source": [
    "x=soil.drop(columns=['Rainfall','Year','Month','Day'])"
   ]
  },
  {
   "cell_type": "code",
   "execution_count": 14,
   "metadata": {},
   "outputs": [
    {
     "data": {
      "text/html": [
       "<div>\n",
       "<style scoped>\n",
       "    .dataframe tbody tr th:only-of-type {\n",
       "        vertical-align: middle;\n",
       "    }\n",
       "\n",
       "    .dataframe tbody tr th {\n",
       "        vertical-align: top;\n",
       "    }\n",
       "\n",
       "    .dataframe thead th {\n",
       "        text-align: right;\n",
       "    }\n",
       "</style>\n",
       "<table border=\"1\" class=\"dataframe\">\n",
       "  <thead>\n",
       "    <tr style=\"text-align: right;\">\n",
       "      <th></th>\n",
       "      <th>atmpressure</th>\n",
       "      <th>Humidity</th>\n",
       "      <th>Precipitation</th>\n",
       "      <th>Temperature</th>\n",
       "      <th>ph</th>\n",
       "      <th>soilmoisture</th>\n",
       "    </tr>\n",
       "  </thead>\n",
       "  <tbody>\n",
       "    <tr>\n",
       "      <th>0</th>\n",
       "      <td>1009</td>\n",
       "      <td>27</td>\n",
       "      <td>0.0</td>\n",
       "      <td>41</td>\n",
       "      <td>6.502985</td>\n",
       "      <td>5.8</td>\n",
       "    </tr>\n",
       "    <tr>\n",
       "      <th>1</th>\n",
       "      <td>1008</td>\n",
       "      <td>29</td>\n",
       "      <td>0.0</td>\n",
       "      <td>38</td>\n",
       "      <td>7.038096</td>\n",
       "      <td>6.0</td>\n",
       "    </tr>\n",
       "    <tr>\n",
       "      <th>2</th>\n",
       "      <td>1011</td>\n",
       "      <td>61</td>\n",
       "      <td>5.0</td>\n",
       "      <td>34</td>\n",
       "      <td>7.840207</td>\n",
       "      <td>8.0</td>\n",
       "    </tr>\n",
       "    <tr>\n",
       "      <th>3</th>\n",
       "      <td>1011</td>\n",
       "      <td>69</td>\n",
       "      <td>0.0</td>\n",
       "      <td>38</td>\n",
       "      <td>6.980401</td>\n",
       "      <td>6.0</td>\n",
       "    </tr>\n",
       "    <tr>\n",
       "      <th>4</th>\n",
       "      <td>1010</td>\n",
       "      <td>50</td>\n",
       "      <td>0.0</td>\n",
       "      <td>41</td>\n",
       "      <td>7.628473</td>\n",
       "      <td>5.8</td>\n",
       "    </tr>\n",
       "    <tr>\n",
       "      <th>...</th>\n",
       "      <td>...</td>\n",
       "      <td>...</td>\n",
       "      <td>...</td>\n",
       "      <td>...</td>\n",
       "      <td>...</td>\n",
       "      <td>...</td>\n",
       "    </tr>\n",
       "    <tr>\n",
       "      <th>56</th>\n",
       "      <td>1005</td>\n",
       "      <td>62</td>\n",
       "      <td>4.0</td>\n",
       "      <td>42</td>\n",
       "      <td>7.070960</td>\n",
       "      <td>5.2</td>\n",
       "    </tr>\n",
       "    <tr>\n",
       "      <th>57</th>\n",
       "      <td>1003</td>\n",
       "      <td>100</td>\n",
       "      <td>0.0</td>\n",
       "      <td>33</td>\n",
       "      <td>6.325890</td>\n",
       "      <td>8.5</td>\n",
       "    </tr>\n",
       "    <tr>\n",
       "      <th>58</th>\n",
       "      <td>1003</td>\n",
       "      <td>100</td>\n",
       "      <td>0.0</td>\n",
       "      <td>31</td>\n",
       "      <td>6.502760</td>\n",
       "      <td>9.0</td>\n",
       "    </tr>\n",
       "    <tr>\n",
       "      <th>59</th>\n",
       "      <td>1001</td>\n",
       "      <td>100</td>\n",
       "      <td>0.0</td>\n",
       "      <td>31</td>\n",
       "      <td>7.965210</td>\n",
       "      <td>9.0</td>\n",
       "    </tr>\n",
       "    <tr>\n",
       "      <th>60</th>\n",
       "      <td>1007</td>\n",
       "      <td>94</td>\n",
       "      <td>6.0</td>\n",
       "      <td>36</td>\n",
       "      <td>7.010960</td>\n",
       "      <td>7.5</td>\n",
       "    </tr>\n",
       "  </tbody>\n",
       "</table>\n",
       "<p>61 rows × 6 columns</p>\n",
       "</div>"
      ],
      "text/plain": [
       "    atmpressure  Humidity  Precipitation  Temperature        ph  soilmoisture\n",
       "0          1009        27            0.0           41  6.502985           5.8\n",
       "1          1008        29            0.0           38  7.038096           6.0\n",
       "2          1011        61            5.0           34  7.840207           8.0\n",
       "3          1011        69            0.0           38  6.980401           6.0\n",
       "4          1010        50            0.0           41  7.628473           5.8\n",
       "..          ...       ...            ...          ...       ...           ...\n",
       "56         1005        62            4.0           42  7.070960           5.2\n",
       "57         1003       100            0.0           33  6.325890           8.5\n",
       "58         1003       100            0.0           31  6.502760           9.0\n",
       "59         1001       100            0.0           31  7.965210           9.0\n",
       "60         1007        94            6.0           36  7.010960           7.5\n",
       "\n",
       "[61 rows x 6 columns]"
      ]
     },
     "execution_count": 14,
     "metadata": {},
     "output_type": "execute_result"
    }
   ],
   "source": [
    "x"
   ]
  },
  {
   "cell_type": "code",
   "execution_count": 15,
   "metadata": {},
   "outputs": [],
   "source": [
    "y=soil['Rainfall']"
   ]
  },
  {
   "cell_type": "code",
   "execution_count": 16,
   "metadata": {},
   "outputs": [
    {
     "data": {
      "text/plain": [
       "0     1\n",
       "1     1\n",
       "2     1\n",
       "3     1\n",
       "4     1\n",
       "     ..\n",
       "56    0\n",
       "57    1\n",
       "58    1\n",
       "59    1\n",
       "60    1\n",
       "Name: Rainfall, Length: 61, dtype: int64"
      ]
     },
     "execution_count": 16,
     "metadata": {},
     "output_type": "execute_result"
    }
   ],
   "source": [
    "y"
   ]
  },
  {
   "cell_type": "code",
   "execution_count": 17,
   "metadata": {},
   "outputs": [],
   "source": [
    "x_train, x_test, y_train, y_test = train_test_split(x, y, test_size = 0.33, random_state = 0)\n"
   ]
  },
  {
   "cell_type": "code",
   "execution_count": 18,
   "metadata": {},
   "outputs": [],
   "source": [
    "from sklearn.neighbors import KNeighborsClassifier"
   ]
  },
  {
   "cell_type": "code",
   "execution_count": 19,
   "metadata": {},
   "outputs": [],
   "source": [
    "knn_scores = []\n",
    "for k in range(1,21):\n",
    "    knn_classifier = KNeighborsClassifier(n_neighbors = 2)\n",
    "    knn_classifier.fit(x_train, y_train)\n",
    "    knn_scores.append(knn_classifier.score(x_test, y_test))"
   ]
  },
  {
   "cell_type": "code",
   "execution_count": 20,
   "metadata": {},
   "outputs": [
    {
     "data": {
      "text/plain": [
       "Text(0.5, 1.0, 'K Neighbors Classifier scores for different K values')"
      ]
     },
     "execution_count": 20,
     "metadata": {},
     "output_type": "execute_result"
    },
    {
     "data": {
      "image/png": "[encoded data removed]",
      "text/plain": [
       "<Figure size 1440x1008 with 1 Axes>"
      ]
     },
     "metadata": {
      "needs_background": "light"
     },
     "output_type": "display_data"
    }
   ],
   "source": [
    "plt.plot([k for k in range(1, 21)], knn_scores, color = 'red')\n",
    "for i in range(1,21):\n",
    "    plt.text(i, knn_scores[i-1], (i, knn_scores[i-1]))\n",
    "plt.xticks([i for i in range(1, 21)])\n",
    "plt.xlabel('Number of Neighbors (K)')\n",
    "plt.ylabel('Scores')\n",
    "plt.title('K Neighbors Classifier scores for different K values')\n"
   ]
  },
  {
   "cell_type": "code",
   "execution_count": 21,
   "metadata": {},
   "outputs": [],
   "source": [
    "classifier = KNeighborsClassifier(n_neighbors = 1,  p = 2)\n",
    "classifier = classifier.fit(x_train,y_train)\n"
   ]
  },
  {
   "cell_type": "code",
   "execution_count": 31,
   "metadata": {},
   "outputs": [
    {
     "name": "stdout",
     "output_type": "stream",
     "text": [
      "Accuracy: 0.71\n"
     ]
    }
   ],
   "source": [
    "y_pred = classifier.predict(x_test)\n",
    "#check accuracy\n",
    "accuracy = accuracy_score(y_test, y_pred)\n",
    "print('Accuracy: {:.2f}'.format(accuracy))"
   ]
  },
  {
   "cell_type": "code",
   "execution_count": 23,
   "metadata": {},
   "outputs": [],
   "source": [
    "model = KNeighborsClassifier()"
   ]
  },
  {
   "cell_type": "code",
   "execution_count": 24,
   "metadata": {},
   "outputs": [
    {
     "data": {
      "text/plain": [
       "KNeighborsClassifier()"
      ]
     },
     "execution_count": 24,
     "metadata": {},
     "output_type": "execute_result"
    }
   ],
   "source": [
    "model.fit(x_train,y_train)"
   ]
  },
  {
   "cell_type": "code",
   "execution_count": 34,
   "metadata": {},
   "outputs": [
    {
     "data": {
      "text/plain": [
       "array([0], dtype=int64)"
      ]
     },
     "execution_count": 34,
     "metadata": {},
     "output_type": "execute_result"
    }
   ],
   "source": [
    "predicted= model.predict([[1008,27,0,41,6.5,5.8]])\n",
    "predicted"
   ]
  },
  {
   "cell_type": "code",
   "execution_count": null,
   "metadata": {},
   "outputs": [],
   "source": []
  },
  {
   "cell_type": "code",
   "execution_count": null,
   "metadata": {},
   "outputs": [],
   "source": []
  },
  {
   "cell_type": "code",
   "execution_count": null,
   "metadata": {},
   "outputs": [],
   "source": []
  }
 ],
 "metadata": {
  "kernelspec": {
   "display_name": "Python 3",
   "language": "python",
   "name": "python3"
  },
  "language_info": {
   "codemirror_mode": {
    "name": "ipython",
    "version": 3
   },
   "file_extension": ".py",
   "mimetype": "text/x-python",
   "name": "python",
   "nbconvert_exporter": "python",
   "pygments_lexer": "ipython3",
   "version": "3.8.5"
  }
 },
 "nbformat": 4,
 "nbformat_minor": 4
}
